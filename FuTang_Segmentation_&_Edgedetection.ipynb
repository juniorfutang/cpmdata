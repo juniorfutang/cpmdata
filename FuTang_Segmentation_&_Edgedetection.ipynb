{
  "nbformat": 4,
  "nbformat_minor": 0,
  "metadata": {
    "colab": {
      "name": "FuTang Segmentation & Edgedetection",
      "provenance": []
    },
    "kernelspec": {
      "name": "python3",
      "display_name": "Python 3"
    },
    "language_info": {
      "name": "python"
    },
    "widgets": {
      "application/vnd.jupyter.widget-state+json": {
        "42fed0ef09de49138c25d6db496a9f8d": {
          "model_module": "@jupyter-widgets/controls",
          "model_name": "VBoxModel",
          "state": {
            "_view_name": "VBoxView",
            "_dom_classes": [
              "widget-interact"
            ],
            "_model_name": "VBoxModel",
            "_view_module": "@jupyter-widgets/controls",
            "_model_module_version": "1.5.0",
            "_view_count": null,
            "_view_module_version": "1.5.0",
            "box_style": "",
            "layout": "IPY_MODEL_a4d6bf2bbe92432b9b7d99198d24a485",
            "_model_module": "@jupyter-widgets/controls",
            "children": [
              "IPY_MODEL_d4bbce59f7cb4aee94da9f60c59f6bbf",
              "IPY_MODEL_f2ebce64ca84494c9a1c62a73dec0af4"
            ]
          }
        },
        "a4d6bf2bbe92432b9b7d99198d24a485": {
          "model_module": "@jupyter-widgets/base",
          "model_name": "LayoutModel",
          "state": {
            "_view_name": "LayoutView",
            "grid_template_rows": null,
            "right": null,
            "justify_content": null,
            "_view_module": "@jupyter-widgets/base",
            "overflow": null,
            "_model_module_version": "1.2.0",
            "_view_count": null,
            "flex_flow": null,
            "width": null,
            "min_width": null,
            "border": null,
            "align_items": null,
            "bottom": null,
            "_model_module": "@jupyter-widgets/base",
            "top": null,
            "grid_column": null,
            "overflow_y": null,
            "overflow_x": null,
            "grid_auto_flow": null,
            "grid_area": null,
            "grid_template_columns": null,
            "flex": null,
            "_model_name": "LayoutModel",
            "justify_items": null,
            "grid_row": null,
            "max_height": null,
            "align_content": null,
            "visibility": null,
            "align_self": null,
            "height": null,
            "min_height": null,
            "padding": null,
            "grid_auto_rows": null,
            "grid_gap": null,
            "max_width": null,
            "order": null,
            "_view_module_version": "1.2.0",
            "grid_template_areas": null,
            "object_position": null,
            "object_fit": null,
            "grid_auto_columns": null,
            "margin": null,
            "display": null,
            "left": null
          }
        },
        "d4bbce59f7cb4aee94da9f60c59f6bbf": {
          "model_module": "@jupyter-widgets/controls",
          "model_name": "IntSliderModel",
          "state": {
            "_view_name": "IntSliderView",
            "style": "IPY_MODEL_ecda71f925cc4fc38e46b5c91f4e87f1",
            "_dom_classes": [],
            "description": "i",
            "step": 1,
            "_model_name": "IntSliderModel",
            "orientation": "horizontal",
            "max": 284,
            "_view_module": "@jupyter-widgets/controls",
            "_model_module_version": "1.5.0",
            "value": 0,
            "_view_count": null,
            "disabled": false,
            "_view_module_version": "1.5.0",
            "min": 0,
            "continuous_update": true,
            "readout_format": "d",
            "description_tooltip": null,
            "readout": true,
            "_model_module": "@jupyter-widgets/controls",
            "layout": "IPY_MODEL_abf7ed79174c43978317ad9a219e7b32"
          }
        },
        "f2ebce64ca84494c9a1c62a73dec0af4": {
          "model_module": "@jupyter-widgets/output",
          "model_name": "OutputModel",
          "state": {
            "_view_name": "OutputView",
            "msg_id": "",
            "_dom_classes": [],
            "_model_name": "OutputModel",
            "outputs": [
              {
                "output_type": "display_data",
                "metadata": {
                  "tags": [],
                  "needs_background": "light"
                },
                "image/png": "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\n",
                "text/plain": "<Figure size 576x576 with 1 Axes>"
              }
            ],
            "_view_module": "@jupyter-widgets/output",
            "_model_module_version": "1.0.0",
            "_view_count": null,
            "_view_module_version": "1.0.0",
            "layout": "IPY_MODEL_00bf84ba813c4c69a86958fd44a3fbfe",
            "_model_module": "@jupyter-widgets/output"
          }
        },
        "ecda71f925cc4fc38e46b5c91f4e87f1": {
          "model_module": "@jupyter-widgets/controls",
          "model_name": "SliderStyleModel",
          "state": {
            "_view_name": "StyleView",
            "handle_color": null,
            "_model_name": "SliderStyleModel",
            "description_width": "",
            "_view_module": "@jupyter-widgets/base",
            "_model_module_version": "1.5.0",
            "_view_count": null,
            "_view_module_version": "1.2.0",
            "_model_module": "@jupyter-widgets/controls"
          }
        },
        "abf7ed79174c43978317ad9a219e7b32": {
          "model_module": "@jupyter-widgets/base",
          "model_name": "LayoutModel",
          "state": {
            "_view_name": "LayoutView",
            "grid_template_rows": null,
            "right": null,
            "justify_content": null,
            "_view_module": "@jupyter-widgets/base",
            "overflow": null,
            "_model_module_version": "1.2.0",
            "_view_count": null,
            "flex_flow": null,
            "width": null,
            "min_width": null,
            "border": null,
            "align_items": null,
            "bottom": null,
            "_model_module": "@jupyter-widgets/base",
            "top": null,
            "grid_column": null,
            "overflow_y": null,
            "overflow_x": null,
            "grid_auto_flow": null,
            "grid_area": null,
            "grid_template_columns": null,
            "flex": null,
            "_model_name": "LayoutModel",
            "justify_items": null,
            "grid_row": null,
            "max_height": null,
            "align_content": null,
            "visibility": null,
            "align_self": null,
            "height": null,
            "min_height": null,
            "padding": null,
            "grid_auto_rows": null,
            "grid_gap": null,
            "max_width": null,
            "order": null,
            "_view_module_version": "1.2.0",
            "grid_template_areas": null,
            "object_position": null,
            "object_fit": null,
            "grid_auto_columns": null,
            "margin": null,
            "display": null,
            "left": null
          }
        },
        "00bf84ba813c4c69a86958fd44a3fbfe": {
          "model_module": "@jupyter-widgets/base",
          "model_name": "LayoutModel",
          "state": {
            "_view_name": "LayoutView",
            "grid_template_rows": null,
            "right": null,
            "justify_content": null,
            "_view_module": "@jupyter-widgets/base",
            "overflow": null,
            "_model_module_version": "1.2.0",
            "_view_count": null,
            "flex_flow": null,
            "width": null,
            "min_width": null,
            "border": null,
            "align_items": null,
            "bottom": null,
            "_model_module": "@jupyter-widgets/base",
            "top": null,
            "grid_column": null,
            "overflow_y": null,
            "overflow_x": null,
            "grid_auto_flow": null,
            "grid_area": null,
            "grid_template_columns": null,
            "flex": null,
            "_model_name": "LayoutModel",
            "justify_items": null,
            "grid_row": null,
            "max_height": null,
            "align_content": null,
            "visibility": null,
            "align_self": null,
            "height": null,
            "min_height": null,
            "padding": null,
            "grid_auto_rows": null,
            "grid_gap": null,
            "max_width": null,
            "order": null,
            "_view_module_version": "1.2.0",
            "grid_template_areas": null,
            "object_position": null,
            "object_fit": null,
            "grid_auto_columns": null,
            "margin": null,
            "display": null,
            "left": null
          }
        },
        "c0ecc17eb14c4271a691f710c43fed6f": {
          "model_module": "@jupyter-widgets/controls",
          "model_name": "VBoxModel",
          "state": {
            "_view_name": "VBoxView",
            "_dom_classes": [
              "widget-interact"
            ],
            "_model_name": "VBoxModel",
            "_view_module": "@jupyter-widgets/controls",
            "_model_module_version": "1.5.0",
            "_view_count": null,
            "_view_module_version": "1.5.0",
            "box_style": "",
            "layout": "IPY_MODEL_5d858d88ee3e49bbafae8ba9fca7e09a",
            "_model_module": "@jupyter-widgets/controls",
            "children": [
              "IPY_MODEL_bc4bf0417b1f40009179f7dee120e1cd",
              "IPY_MODEL_fd6d18bf16f2483b818611dfc6444067"
            ]
          }
        },
        "5d858d88ee3e49bbafae8ba9fca7e09a": {
          "model_module": "@jupyter-widgets/base",
          "model_name": "LayoutModel",
          "state": {
            "_view_name": "LayoutView",
            "grid_template_rows": null,
            "right": null,
            "justify_content": null,
            "_view_module": "@jupyter-widgets/base",
            "overflow": null,
            "_model_module_version": "1.2.0",
            "_view_count": null,
            "flex_flow": null,
            "width": null,
            "min_width": null,
            "border": null,
            "align_items": null,
            "bottom": null,
            "_model_module": "@jupyter-widgets/base",
            "top": null,
            "grid_column": null,
            "overflow_y": null,
            "overflow_x": null,
            "grid_auto_flow": null,
            "grid_area": null,
            "grid_template_columns": null,
            "flex": null,
            "_model_name": "LayoutModel",
            "justify_items": null,
            "grid_row": null,
            "max_height": null,
            "align_content": null,
            "visibility": null,
            "align_self": null,
            "height": null,
            "min_height": null,
            "padding": null,
            "grid_auto_rows": null,
            "grid_gap": null,
            "max_width": null,
            "order": null,
            "_view_module_version": "1.2.0",
            "grid_template_areas": null,
            "object_position": null,
            "object_fit": null,
            "grid_auto_columns": null,
            "margin": null,
            "display": null,
            "left": null
          }
        },
        "bc4bf0417b1f40009179f7dee120e1cd": {
          "model_module": "@jupyter-widgets/controls",
          "model_name": "IntSliderModel",
          "state": {
            "_view_name": "IntSliderView",
            "style": "IPY_MODEL_6c1549ae7b744facbf51571bff731ca3",
            "_dom_classes": [],
            "description": "i",
            "step": 1,
            "_model_name": "IntSliderModel",
            "orientation": "horizontal",
            "max": 284,
            "_view_module": "@jupyter-widgets/controls",
            "_model_module_version": "1.5.0",
            "value": 0,
            "_view_count": null,
            "disabled": false,
            "_view_module_version": "1.5.0",
            "min": 0,
            "continuous_update": true,
            "readout_format": "d",
            "description_tooltip": null,
            "readout": true,
            "_model_module": "@jupyter-widgets/controls",
            "layout": "IPY_MODEL_fa3635d7eecf4a43ad5b69776239c4d7"
          }
        },
        "fd6d18bf16f2483b818611dfc6444067": {
          "model_module": "@jupyter-widgets/output",
          "model_name": "OutputModel",
          "state": {
            "_view_name": "OutputView",
            "msg_id": "",
            "_dom_classes": [],
            "_model_name": "OutputModel",
            "outputs": [
              {
                "output_type": "display_data",
                "metadata": {
                  "tags": [],
                  "needs_background": "light"
                },
                "image/png": "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\n",
                "text/plain": "<Figure size 576x576 with 1 Axes>"
              }
            ],
            "_view_module": "@jupyter-widgets/output",
            "_model_module_version": "1.0.0",
            "_view_count": null,
            "_view_module_version": "1.0.0",
            "layout": "IPY_MODEL_b7895ec36dc2404cb774f7f5e9230ad9",
            "_model_module": "@jupyter-widgets/output"
          }
        },
        "6c1549ae7b744facbf51571bff731ca3": {
          "model_module": "@jupyter-widgets/controls",
          "model_name": "SliderStyleModel",
          "state": {
            "_view_name": "StyleView",
            "handle_color": null,
            "_model_name": "SliderStyleModel",
            "description_width": "",
            "_view_module": "@jupyter-widgets/base",
            "_model_module_version": "1.5.0",
            "_view_count": null,
            "_view_module_version": "1.2.0",
            "_model_module": "@jupyter-widgets/controls"
          }
        },
        "fa3635d7eecf4a43ad5b69776239c4d7": {
          "model_module": "@jupyter-widgets/base",
          "model_name": "LayoutModel",
          "state": {
            "_view_name": "LayoutView",
            "grid_template_rows": null,
            "right": null,
            "justify_content": null,
            "_view_module": "@jupyter-widgets/base",
            "overflow": null,
            "_model_module_version": "1.2.0",
            "_view_count": null,
            "flex_flow": null,
            "width": null,
            "min_width": null,
            "border": null,
            "align_items": null,
            "bottom": null,
            "_model_module": "@jupyter-widgets/base",
            "top": null,
            "grid_column": null,
            "overflow_y": null,
            "overflow_x": null,
            "grid_auto_flow": null,
            "grid_area": null,
            "grid_template_columns": null,
            "flex": null,
            "_model_name": "LayoutModel",
            "justify_items": null,
            "grid_row": null,
            "max_height": null,
            "align_content": null,
            "visibility": null,
            "align_self": null,
            "height": null,
            "min_height": null,
            "padding": null,
            "grid_auto_rows": null,
            "grid_gap": null,
            "max_width": null,
            "order": null,
            "_view_module_version": "1.2.0",
            "grid_template_areas": null,
            "object_position": null,
            "object_fit": null,
            "grid_auto_columns": null,
            "margin": null,
            "display": null,
            "left": null
          }
        },
        "b7895ec36dc2404cb774f7f5e9230ad9": {
          "model_module": "@jupyter-widgets/base",
          "model_name": "LayoutModel",
          "state": {
            "_view_name": "LayoutView",
            "grid_template_rows": null,
            "right": null,
            "justify_content": null,
            "_view_module": "@jupyter-widgets/base",
            "overflow": null,
            "_model_module_version": "1.2.0",
            "_view_count": null,
            "flex_flow": null,
            "width": null,
            "min_width": null,
            "border": null,
            "align_items": null,
            "bottom": null,
            "_model_module": "@jupyter-widgets/base",
            "top": null,
            "grid_column": null,
            "overflow_y": null,
            "overflow_x": null,
            "grid_auto_flow": null,
            "grid_area": null,
            "grid_template_columns": null,
            "flex": null,
            "_model_name": "LayoutModel",
            "justify_items": null,
            "grid_row": null,
            "max_height": null,
            "align_content": null,
            "visibility": null,
            "align_self": null,
            "height": null,
            "min_height": null,
            "padding": null,
            "grid_auto_rows": null,
            "grid_gap": null,
            "max_width": null,
            "order": null,
            "_view_module_version": "1.2.0",
            "grid_template_areas": null,
            "object_position": null,
            "object_fit": null,
            "grid_auto_columns": null,
            "margin": null,
            "display": null,
            "left": null
          }
        }
      }
    }
  },
  "cells": [
    {
      "cell_type": "code",
      "metadata": {
        "id": "AmkyMgUymwt0"
      },
      "source": [
        "import pandas as pd\n",
        "import numpy as np\n",
        "import matplotlib.pyplot as plt\n",
        "\n",
        "import skimage.data as data\n",
        "import skimage.segmentation as seg\n",
        "import skimage.filters as filters\n",
        "\n",
        "from skimage.morphology import binary_erosion as erode\n",
        "from skimage.morphology import binary_dilation as dilate\n",
        "from skimage.morphology import square, disk, star, diamond, rectangle\n",
        "from skimage.util import pad\n",
        "from skimage import img_as_float32, img_as_ubyte, dtype_limits, img_as_float64, img_as_float\n",
        "\n",
        "\n",
        "from ipywidgets import interact, interactive, fixed, interact_manual\n",
        "import ipywidgets as widgets\n",
        "from skimage.color import rgb2gray"
      ],
      "execution_count": 1,
      "outputs": []
    },
    {
      "cell_type": "code",
      "metadata": {
        "colab": {
          "base_uri": "https://localhost:8080/"
        },
        "id": "HZ6HFfhumxZF",
        "outputId": "fe26686e-884a-43e3-c993-cc6137e23e1a"
      },
      "source": [
        "#you can do as we did & download the image files and upload them to google drive \n",
        "from google.colab import drive\n",
        "drive.mount('/content/drive',force_remount=True)"
      ],
      "execution_count": 2,
      "outputs": [
        {
          "output_type": "stream",
          "text": [
            "Mounted at /content/drive\n"
          ],
          "name": "stdout"
        }
      ]
    },
    {
      "cell_type": "code",
      "metadata": {
        "colab": {
          "base_uri": "https://localhost:8080/",
          "height": 415,
          "referenced_widgets": [
            "42fed0ef09de49138c25d6db496a9f8d",
            "a4d6bf2bbe92432b9b7d99198d24a485",
            "d4bbce59f7cb4aee94da9f60c59f6bbf",
            "f2ebce64ca84494c9a1c62a73dec0af4",
            "ecda71f925cc4fc38e46b5c91f4e87f1",
            "abf7ed79174c43978317ad9a219e7b32",
            "00bf84ba813c4c69a86958fd44a3fbfe"
          ]
        },
        "id": "WodMNutzmxb1",
        "outputId": "88c9e83b-aed4-4fab-a710-f5c7580c4265"
      },
      "source": [
        "#this allows you to slider through all the QPM images in order\n",
        "im = np.zeros((600,800,285))\n",
        "#most content in google drive starts as \"'/content/drive/MyDrive/\"\n",
        "for i in range(285):\n",
        " im[:,:,i]=plt.imread('/content/drive/MyDrive/Colab_Notebooks/BRP/BRPC/phase{}.tif'.format(i))\n",
        "\n",
        "def current_frame(i=0):\n",
        "  fig, ax = plt.subplots(figsize=(8,8))\n",
        "\n",
        "  ax.imshow(im[:,:,i], cmap='gray')\n",
        "  ax.axis('off')\n",
        "\n",
        "interact(current_frame, i=widgets.IntSlider(value=0, min=0, max=284, step=1))\n"
      ],
      "execution_count": 3,
      "outputs": [
        {
          "output_type": "display_data",
          "data": {
            "application/vnd.jupyter.widget-view+json": {
              "model_id": "42fed0ef09de49138c25d6db496a9f8d",
              "version_minor": 0,
              "version_major": 2
            },
            "text/plain": [
              "interactive(children=(IntSlider(value=0, description='i', max=284), Output()), _dom_classes=('widget-interact'…"
            ]
          },
          "metadata": {
            "tags": []
          }
        },
        {
          "output_type": "execute_result",
          "data": {
            "text/plain": [
              "<function __main__.current_frame>"
            ]
          },
          "metadata": {
            "tags": []
          },
          "execution_count": 3
        }
      ]
    },
    {
      "cell_type": "markdown",
      "metadata": {
        "id": "5A3kDi0enF8Z"
      },
      "source": [
        "Start of Binary Mask Segmentation"
      ]
    },
    {
      "cell_type": "code",
      "metadata": {
        "colab": {
          "base_uri": "https://localhost:8080/"
        },
        "id": "s8PhGzdNrE-I",
        "outputId": "febb65d3-8669-499b-d6e9-63f741a7439a"
      },
      "source": [
        "im[:,:,0].shape\n",
        "im1=im[:,:,0]\n",
        "#min(im1)\n",
        "max(im1[0,:])\n",
        "#dtype_limits(im1)"
      ],
      "execution_count": 9,
      "outputs": [
        {
          "output_type": "execute_result",
          "data": {
            "text/plain": [
              "909.0"
            ]
          },
          "metadata": {
            "tags": []
          },
          "execution_count": 9
        }
      ]
    },
    {
      "cell_type": "code",
      "metadata": {
        "colab": {
          "base_uri": "https://localhost:8080/",
          "height": 411
        },
        "id": "kDOPG6_vmxez",
        "outputId": "35aaa01f-18ec-425f-ca96-8dea8c08caea"
      },
      "source": [
        "#compare the first binary mask image to the first raw image\n",
        "tst= im1 > 20000\n",
        "\n",
        "fig, ax = plt.subplots(ncols=2, figsize=(20,20))\n",
        "\n",
        "ax[0].imshow(dilate(erode(tst,square(7)),square(7)), cmap='gray')\n",
        "ax[1].imshow(im1, cmap='gray')\n",
        "\n",
        "for axi in ax:\n",
        " axi.axis('off')"
      ],
      "execution_count": 11,
      "outputs": [
        {
          "output_type": "display_data",
          "data": {
            "image/png": "[encoded data removed]",
            "text/plain": [
              "<Figure size 1440x1440 with 2 Axes>"
            ]
          },
          "metadata": {
            "tags": [],
            "needs_background": "light"
          }
        }
      ]
    },
    {
      "cell_type": "code",
      "metadata": {
        "colab": {
          "base_uri": "https://localhost:8080/",
          "height": 415,
          "referenced_widgets": [
            "c0ecc17eb14c4271a691f710c43fed6f",
            "5d858d88ee3e49bbafae8ba9fca7e09a",
            "bc4bf0417b1f40009179f7dee120e1cd",
            "fd6d18bf16f2483b818611dfc6444067",
            "6c1549ae7b744facbf51571bff731ca3",
            "fa3635d7eecf4a43ad5b69776239c4d7",
            "b7895ec36dc2404cb774f7f5e9230ad9"
          ]
        },
        "id": "p9E6fMqtnWnN",
        "outputId": "4793a40d-1abf-4725-c2b2-1b29bb7e8143"
      },
      "source": [
        "#slider for binary mask images\n",
        "imground = np.zeros((600,800,285))\n",
        "tstg= np.zeros((600,800,285))\n",
        "tstgs= np.zeros((600,800,285))\n",
        "\n",
        "for i in range(285):\n",
        " imground[:,:,i]=plt.imread('/content/drive/MyDrive/Colab_Notebooks/BRP/BRPC/phase{}.tif'.format(i))\n",
        " tstg[:,:,i]= imground[:,:,i] > 20000\n",
        " tstgs[:,:,i]=(dilate(erode(tstg[:,:,i],square(7)),square(7)))\n",
        "\n",
        "def current_frame(i=0):\n",
        "  fig, ax = plt.subplots(figsize=(8,8))\n",
        "\n",
        "  ax.imshow(tstgs[:,:,i], cmap='gray')\n",
        "  ax.axis('off')\n",
        "\n",
        "interact(current_frame, i=widgets.IntSlider(value=0, min=0, max=284, step=1))"
      ],
      "execution_count": 12,
      "outputs": [
        {
          "output_type": "display_data",
          "data": {
            "application/vnd.jupyter.widget-view+json": {
              "model_id": "c0ecc17eb14c4271a691f710c43fed6f",
              "version_minor": 0,
              "version_major": 2
            },
            "text/plain": [
              "interactive(children=(IntSlider(value=0, description='i', max=284), Output()), _dom_classes=('widget-interact'…"
            ]
          },
          "metadata": {
            "tags": []
          }
        },
        {
          "output_type": "execute_result",
          "data": {
            "text/plain": [
              "<function __main__.current_frame>"
            ]
          },
          "metadata": {
            "tags": []
          },
          "execution_count": 12
        }
      ]
    },
    {
      "cell_type": "code",
      "metadata": {
        "id": "T4tkobE3mxhw"
      },
      "source": [
        ""
      ],
      "execution_count": null,
      "outputs": []
    },
    {
      "cell_type": "markdown",
      "metadata": {
        "id": "SILKLPqnnibZ"
      },
      "source": [
        "Edge detection segmentation"
      ]
    },
    {
      "cell_type": "code",
      "metadata": {
        "colab": {
          "base_uri": "https://localhost:8080/",
          "height": 269
        },
        "id": "Uc8rWxScmxkP",
        "outputId": "40067534-c617-4442-be8d-c185054be746"
      },
      "source": [
        "#have to convert data into appropriate type, a filtered image float\n",
        "imgray=rgb2gray(im)\n",
        "from skimage.filters import threshold_otsu\n",
        "myim_threshold = threshold_otsu(imgray)\n",
        "plt.imshow(imgray > myim_threshold, cmap='gray')\n",
        "\n",
        "im2=imgray>myim_threshold\n",
        "im2float= img_as_float(im2)"
      ],
      "execution_count": 4,
      "outputs": [
        {
          "output_type": "display_data",
          "data": {
            "image/png": "[encoded data removed]",
            "text/plain": [
              "<Figure size 432x288 with 1 Axes>"
            ]
          },
          "metadata": {
            "tags": [],
            "needs_background": "light"
          }
        }
      ]
    },
    {
      "cell_type": "code",
      "metadata": {
        "colab": {
          "base_uri": "https://localhost:8080/",
          "height": 257
        },
        "id": "0ckK5nApmxnB",
        "outputId": "0c7f1688-46ba-4419-893f-257d87639a4e"
      },
      "source": [
        "#Boundary extraction method for edge detection\n",
        "fig, axes = plt.subplots(ncols=3, figsize=(17, 6))\n",
        "\n",
        "for ax in axes:\n",
        "    ax.axis('off')\n",
        "    \n",
        "axes[0].imshow(im2float, cmap='gray')\n",
        "axes[1].imshow(erode(im2float, disk(3)), cmap='gray')\n",
        "axes[2].imshow(im2float - erode(im2float, disk(2)), cmap='gray')"
      ],
      "execution_count": 5,
      "outputs": [
        {
          "output_type": "execute_result",
          "data": {
            "text/plain": [
              "<matplotlib.image.AxesImage at 0x7fdaf4f27410>"
            ]
          },
          "metadata": {
            "tags": []
          },
          "execution_count": 5
        },
        {
          "output_type": "display_data",
          "data": {
            "image/png": "[encoded data removed]",
            "text/plain": [
              "<Figure size 1224x432 with 3 Axes>"
            ]
          },
          "metadata": {
            "tags": [],
            "needs_background": "light"
          }
        }
      ]
    },
    {
      "cell_type": "code",
      "metadata": {
        "id": "Y-lteQXbrpDu"
      },
      "source": [
        "#we would like to get rid of tiny speckles that remain, as these speckles are very likely not Hela cells\n",
        "import cv2\n",
        "from cv2 import connectedComponentsWithStats"
      ],
      "execution_count": 10,
      "outputs": []
    },
    {
      "cell_type": "code",
      "metadata": {
        "colab": {
          "base_uri": "https://localhost:8080/",
          "height": 286
        },
        "id": "i1wi6SAdrpGh",
        "outputId": "3c2205ac-6820-4b18-ece6-2b8f08afdf3c"
      },
      "source": [
        "#data conversion\n",
        "imgPWN=im2float.astype(np.uint8)\n",
        "#find all your connected components (white blobs in your image, all parameters are needed)\n",
        "nb_components, output, stats, centroids = cv2.connectedComponentsWithStats(imgPWN, connectivity=8)\n",
        "##nb_components.shape\n",
        "\n",
        "#connectedComponentswithStats yields every seperated component with information on each of them, such as size\n",
        "#the following part is just taking out the background which is also considered a component, but most of the time we don't want that.\n",
        "\n",
        "sizes = stats[1:, -1]; nb_components = nb_components - 1\n",
        "\n",
        "# minimum size of particles we want to keep (number of pixels)\n",
        "#here, it's a fixed value, but you can set it as you want, eg the mean of the sizes or whatever\n",
        "min_size = 100  \n",
        "\n",
        "#your answer image\n",
        "img2 = np.zeros((output.shape))\n",
        "#for every component in the image, you keep it only if it's above min_size\n",
        "for i in range(0, nb_components):\n",
        "    if sizes[i] >= min_size:\n",
        "        img2[output == i + 1] = 255\n",
        "\n",
        "plt.imshow(img2, cmap='gray')"
      ],
      "execution_count": 11,
      "outputs": [
        {
          "output_type": "execute_result",
          "data": {
            "text/plain": [
              "<matplotlib.image.AxesImage at 0x7fdaeb4d0550>"
            ]
          },
          "metadata": {
            "tags": []
          },
          "execution_count": 11
        },
        {
          "output_type": "display_data",
          "data": {
            "image/png": "[encoded data removed]",
            "text/plain": [
              "<Figure size 432x288 with 1 Axes>"
            ]
          },
          "metadata": {
            "tags": [],
            "needs_background": "light"
          }
        }
      ]
    },
    {
      "cell_type": "code",
      "metadata": {
        "colab": {
          "base_uri": "https://localhost:8080/",
          "height": 269
        },
        "id": "6UE4__-urpI9",
        "outputId": "06461915-f8d5-46f7-fe59-ddf9beaec44a"
      },
      "source": [
        "#convert back our speckle free data\n",
        "imgray2=rgb2gray(img2)\n",
        "myim_threshold2 = threshold_otsu(imgray2)\n",
        "plt.imshow(imgray2 > myim_threshold2, cmap='gray')\n",
        "\n",
        "im22=imgray2>myim_threshold2\n",
        "im2float2= img_as_float(im22)"
      ],
      "execution_count": 14,
      "outputs": [
        {
          "output_type": "display_data",
          "data": {
            "image/png": "[encoded data removed]",
            "text/plain": [
              "<Figure size 432x288 with 1 Axes>"
            ]
          },
          "metadata": {
            "tags": [],
            "needs_background": "light"
          }
        }
      ]
    },
    {
      "cell_type": "code",
      "metadata": {
        "colab": {
          "base_uri": "https://localhost:8080/",
          "height": 257
        },
        "id": "zZi5Hvcsrx2H",
        "outputId": "7c69efeb-fbc2-4aaf-ccc3-db3fcea00cb1"
      },
      "source": [
        "#Speckle free Boundary extraction method for edge detection\n",
        "fig, axes = plt.subplots(ncols=3, figsize=(17, 6))\n",
        "\n",
        "for ax in axes:\n",
        "    ax.axis('off')\n",
        "    \n",
        "axes[0].imshow(im2float2, cmap='gray')\n",
        "axes[1].imshow(erode(im2float2, disk(3)), cmap='gray')\n",
        "axes[2].imshow(im2float2 - erode(im2float2, disk(2)), cmap='gray')"
      ],
      "execution_count": 13,
      "outputs": [
        {
          "output_type": "execute_result",
          "data": {
            "text/plain": [
              "<matplotlib.image.AxesImage at 0x7fdaeb399b50>"
            ]
          },
          "metadata": {
            "tags": []
          },
          "execution_count": 13
        },
        {
          "output_type": "display_data",
          "data": {
            "image/png": "[encoded data removed]",
            "text/plain": [
              "<Figure size 1224x432 with 3 Axes>"
            ]
          },
          "metadata": {
            "tags": [],
            "needs_background": "light"
          }
        }
      ]
    },
    {
      "cell_type": "markdown",
      "metadata": {
        "id": "fvlxdT1CnwXT"
      },
      "source": [
        "Edge detection with Skimage canny function"
      ]
    },
    {
      "cell_type": "code",
      "metadata": {
        "id": "8XOKWmRIn1b2"
      },
      "source": [
        "from skimage.feature import canny\n",
        "from skimage.morphology import disk, binary_dilation, binary_erosion"
      ],
      "execution_count": 15,
      "outputs": []
    },
    {
      "cell_type": "code",
      "metadata": {
        "colab": {
          "base_uri": "https://localhost:8080/",
          "height": 316
        },
        "id": "qzAolaRgn1et",
        "outputId": "082e6e68-ae6e-463c-f0d4-ab1d2a9a116f"
      },
      "source": [
        "#canny(image,sigma,lower boundary,upperboundary), higher sigma the more resolved it is on the outmost edge\n",
        "edges = canny(imgray, 3 ,10,90)\n",
        "\n",
        "fig, axes = plt.subplots(1, 2, figsize=(15, 10))\n",
        "\n",
        "axes[0].imshow(imgray, cmap='gray')\n",
        "#axes[1].imshow(edges, cmap='gray')\n",
        "axes[1].imshow(binary_dilation(edges, disk(1)), cmap='gray')\n",
        "\n",
        "for ax in axes:\n",
        "    ax.axis('off')"
      ],
      "execution_count": 16,
      "outputs": [
        {
          "output_type": "display_data",
          "data": {
            "image/png": "[encoded data removed]",
            "text/plain": [
              "<Figure size 1080x720 with 2 Axes>"
            ]
          },
          "metadata": {
            "tags": [],
            "needs_background": "light"
          }
        }
      ]
    }
  ]
}