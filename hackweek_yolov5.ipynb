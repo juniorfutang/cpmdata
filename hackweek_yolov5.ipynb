{
 "cells": [
  {
   "cell_type": "code",
   "execution_count": 1,
   "metadata": {},
   "outputs": [],
   "source": [
    "from util import labeledImage, normalize_coordinates, convert_to_yolo_format\n",
    "from sklearn.model_selection import train_test_split\n",
    "import os, shutil, yaml"
   ]
  },
  {
   "cell_type": "code",
   "execution_count": 2,
   "metadata": {},
   "outputs": [],
   "source": [
    "source_images_dir = 'C:/Users/thoma/Desktop/Hackweek/qpm/images/'\n",
    "source_labels_dir = 'C:/Users/thoma/Desktop/Hackweek/qpm/labels/'\n",
    "\n",
    "labeled_images = []\n",
    "#tag = ['DEFECT', 'ROI']\n",
    "tag = 'CELLS'\n",
    "\n",
    "for file in os.listdir(source_images_dir):\n",
    "    # find all PNG file and it's ImageJ label\n",
    "    if file.endswith(\".tif\"):\n",
    "        image_path = os.path.join(source_images_dir, file)\n",
    "        label_path = os.path.join(source_labels_dir, file.split('.')[0] + '.txt')\n",
    "        labeled_images.append(labeledImage(image_path))\n",
    "        labeled_images[-1].add_labels_from_file(tag, label_path)"
   ]
  },
  {
   "cell_type": "code",
   "execution_count": 3,
   "metadata": {},
   "outputs": [
    {
     "data": {
      "text/plain": [
       "(70, 20, 11)"
      ]
     },
     "execution_count": 3,
     "metadata": {},
     "output_type": "execute_result"
    }
   ],
   "source": [
    "train_and_val_set, test_set = train_test_split(labeled_images, test_size=0.1)\n",
    "train_set, val_set = train_test_split(train_and_val_set, test_size=(2/9))\n",
    "\n",
    "len(train_set), len(val_set), len(test_set)"
   ]
  },
  {
   "cell_type": "code",
   "execution_count": 4,
   "metadata": {},
   "outputs": [],
   "source": [
    "# Create the molecule_images directory if it doesn't exist\n",
    "output_dir = './train_images_qpm'\n",
    "if not os.path.exists(output_dir): os.mkdir(output_dir)\n",
    "\n",
    "train_dir = os.path.join(output_dir, 'train') \n",
    "val_dir   = os.path.join(output_dir, 'val') \n",
    "test_dir  = os.path.join(output_dir, 'test') \n",
    "\n",
    "# Create the sub-directories\n",
    "for d in [train_dir, val_dir, test_dir]:\n",
    "    if not os.path.exists(d): os.mkdir(d)\n",
    "    \n",
    "    images_sub_dir = os.path.join(d, 'images')\n",
    "    labels_sub_dir = os.path.join(d, 'labels')\n",
    "    \n",
    "    for sub_dir in [images_sub_dir, labels_sub_dir]:\n",
    "        if not os.path.exists(sub_dir): os.mkdir(sub_dir)"
   ]
  },
  {
   "cell_type": "code",
   "execution_count": 5,
   "metadata": {},
   "outputs": [
    {
     "name": "stdout",
     "output_type": "stream",
     "text": [
      "successfully generated labels for image  phase2.tif\n",
      "successfully generated labels for image  phase44.tif\n",
      "successfully generated labels for image  phase58.tif\n",
      "successfully generated labels for image  phase26.tif\n",
      "successfully generated labels for image  phase39.tif\n",
      "successfully generated labels for image  phase20.tif\n",
      "successfully generated labels for image  phase73.tif\n",
      "successfully generated labels for image  phase33.tif\n",
      "successfully generated labels for image  phase88.tif\n",
      "successfully generated labels for image  phase6.tif\n",
      "successfully generated labels for image  phase15.tif\n",
      "successfully generated labels for image  phase92.tif\n",
      "successfully generated labels for image  phase4.tif\n",
      "successfully generated labels for image  phase43.tif\n",
      "successfully generated labels for image  phase30.tif\n",
      "successfully generated labels for image  phase35.tif\n",
      "successfully generated labels for image  phase29.tif\n",
      "successfully generated labels for image  phase18.tif\n",
      "successfully generated labels for image  phase76.tif\n",
      "successfully generated labels for image  phase71.tif\n",
      "successfully generated labels for image  phase63.tif\n",
      "successfully generated labels for image  phase86.tif\n",
      "successfully generated labels for image  phase45.tif\n",
      "successfully generated labels for image  phase12.tif\n",
      "successfully generated labels for image  phase5.tif\n",
      "successfully generated labels for image  phase1.tif\n",
      "successfully generated labels for image  phase14.tif\n",
      "successfully generated labels for image  phase96.tif\n",
      "successfully generated labels for image  phase51.tif\n",
      "successfully generated labels for image  phase62.tif\n",
      "successfully generated labels for image  phase59.tif\n",
      "successfully generated labels for image  phase8.tif\n",
      "successfully generated labels for image  phase36.tif\n",
      "successfully generated labels for image  phase55.tif\n",
      "successfully generated labels for image  phase28.tif\n",
      "successfully generated labels for image  phase68.tif\n",
      "successfully generated labels for image  phase49.tif\n",
      "successfully generated labels for image  phase78.tif\n",
      "successfully generated labels for image  phase38.tif\n",
      "successfully generated labels for image  phase80.tif\n",
      "successfully generated labels for image  phase16.tif\n",
      "successfully generated labels for image  phase61.tif\n",
      "successfully generated labels for image  phase41.tif\n",
      "successfully generated labels for image  phase54.tif\n",
      "successfully generated labels for image  phase24.tif\n",
      "successfully generated labels for image  phase79.tif\n",
      "successfully generated labels for image  phase90.tif\n",
      "successfully generated labels for image  phase13.tif\n",
      "successfully generated labels for image  phase22.tif\n",
      "successfully generated labels for image  phase46.tif\n",
      "successfully generated labels for image  phase70.tif\n",
      "successfully generated labels for image  phase65.tif\n",
      "successfully generated labels for image  phase69.tif\n",
      "successfully generated labels for image  phase57.tif\n",
      "successfully generated labels for image  phase34.tif\n",
      "successfully generated labels for image  phase37.tif\n",
      "successfully generated labels for image  phase47.tif\n",
      "successfully generated labels for image  phase19.tif\n",
      "successfully generated labels for image  phase64.tif\n",
      "successfully generated labels for image  phase32.tif\n",
      "successfully generated labels for image  phase85.tif\n",
      "successfully generated labels for image  phase56.tif\n",
      "successfully generated labels for image  phase7.tif\n",
      "successfully generated labels for image  phase83.tif\n",
      "successfully generated labels for image  phase84.tif\n",
      "successfully generated labels for image  phase0.tif\n",
      "successfully generated labels for image  phase75.tif\n",
      "successfully generated labels for image  phase10.tif\n",
      "successfully generated labels for image  phase52.tif\n",
      "successfully generated labels for image  phase40.tif\n",
      "successfully generated labels for image  phase25.tif\n",
      "successfully generated labels for image  phase98.tif\n",
      "successfully generated labels for image  phase66.tif\n",
      "successfully generated labels for image  phase67.tif\n",
      "successfully generated labels for image  phase100.tif\n",
      "successfully generated labels for image  phase27.tif\n",
      "successfully generated labels for image  phase42.tif\n",
      "successfully generated labels for image  phase87.tif\n",
      "successfully generated labels for image  phase82.tif\n",
      "successfully generated labels for image  phase95.tif\n",
      "successfully generated labels for image  phase53.tif\n",
      "successfully generated labels for image  phase48.tif\n",
      "successfully generated labels for image  phase74.tif\n",
      "successfully generated labels for image  phase60.tif\n",
      "successfully generated labels for image  phase99.tif\n",
      "successfully generated labels for image  phase77.tif\n",
      "successfully generated labels for image  phase81.tif\n",
      "successfully generated labels for image  phase17.tif\n",
      "successfully generated labels for image  phase31.tif\n",
      "successfully generated labels for image  phase91.tif\n",
      "successfully generated labels for image  phase93.tif\n",
      "successfully generated labels for image  phase3.tif\n",
      "successfully generated labels for image  phase97.tif\n",
      "successfully generated labels for image  phase89.tif\n",
      "successfully generated labels for image  phase50.tif\n",
      "successfully generated labels for image  phase11.tif\n",
      "successfully generated labels for image  phase23.tif\n",
      "successfully generated labels for image  phase21.tif\n",
      "successfully generated labels for image  phase9.tif\n",
      "successfully generated labels for image  phase72.tif\n",
      "successfully generated labels for image  phase94.tif\n"
     ]
    }
   ],
   "source": [
    "# make unified yolo tags \n",
    "tags = [tag]\n",
    "\n",
    "# zip the dataset\n",
    "dataset = [(train_dir, train_set),(val_dir, val_set),(test_dir, test_set)]\n",
    "\n",
    "for d, s in dataset:\n",
    "    images_sub_dir = os.path.join(d, 'images')\n",
    "    labels_sub_dir = os.path.join(d, 'labels')\n",
    "\n",
    "    # copy over the images\n",
    "    for img in s:\n",
    "        shutil.copyfile(img.path, os.path.join(images_sub_dir, img.name))\n",
    "    \n",
    "    # covert ImageJ labels to yolo format and save it to labels_sub_dir\n",
    "    convert_to_yolo_format(s, labels_sub_dir, tags)"
   ]
  },
  {
   "cell_type": "code",
   "execution_count": 6,
   "metadata": {},
   "outputs": [],
   "source": [
    "# generate yolo yaml file\n",
    "yolo_yaml = os.path.join(output_dir, 'cell_detection_yolov5.yaml')\n",
    "\n",
    "with open(yolo_yaml, 'w') as yamlout:\n",
    "    yaml.dump(\n",
    "        {'train': train_dir,\n",
    "         'val': val_dir,\n",
    "         'nc': len(tags),\n",
    "         'names': tags},\n",
    "        yamlout,\n",
    "        default_flow_style=None,\n",
    "        sort_keys=False\n",
    "    )"
   ]
  },
  {
   "cell_type": "code",
   "execution_count": 1,
   "metadata": {},
   "outputs": [],
   "source": [
    "from azureml.core import Workspace, Experiment, Environment, ScriptRunConfig\n",
    "from azureml.core.conda_dependencies import CondaDependencies"
   ]
  },
  {
   "cell_type": "code",
   "execution_count": 2,
   "metadata": {},
   "outputs": [],
   "source": [
    "yolov5_env = Environment(name=\"yolov5_env\")\n",
    "\n",
    "yolov5_env.docker.base_image  = \"mcr.microsoft.com/azureml/openmpi4.1.0-cuda11.0.3-cudnn8-ubuntu18.04\"\n",
    "\n",
    "conda_dep = CondaDependencies()\n",
    "conda_dep.add_conda_package('python=3.8')\n",
    "\n",
    "# install all the yolov5 requirement at the image build time\n",
    "with open('./requirements.txt', 'r') as f:\n",
    "    line = f.readline()\n",
    "    \n",
    "    while line != '':        \n",
    "        if line.startswith('#') or len(line.split()) == 0:\n",
    "            line = f.readline()\n",
    "            continue\n",
    "        \n",
    "        conda_dep.add_pip_package(line.split()[0])\n",
    "        line = f.readline()\n",
    "\n",
    "yolov5_env.python.conda_dependencies=conda_dep"
   ]
  },
  {
   "cell_type": "code",
   "execution_count": 3,
   "metadata": {},
   "outputs": [
    {
     "data": {
      "text/plain": [
       "<bound method Environment.get_image_details of {\n",
       "    \"databricks\": {\n",
       "        \"eggLibraries\": [],\n",
       "        \"jarLibraries\": [],\n",
       "        \"mavenLibraries\": [],\n",
       "        \"pypiLibraries\": [],\n",
       "        \"rcranLibraries\": []\n",
       "    },\n",
       "    \"docker\": {\n",
       "        \"arguments\": [],\n",
       "        \"baseDockerfile\": null,\n",
       "        \"baseImage\": \"mcr.microsoft.com/azureml/openmpi4.1.0-cuda11.0.3-cudnn8-ubuntu18.04\",\n",
       "        \"baseImageRegistry\": {\n",
       "            \"address\": null,\n",
       "            \"password\": null,\n",
       "            \"registryIdentity\": null,\n",
       "            \"username\": null\n",
       "        },\n",
       "        \"enabled\": false,\n",
       "        \"platform\": {\n",
       "            \"architecture\": \"amd64\",\n",
       "            \"os\": \"Linux\"\n",
       "        },\n",
       "        \"sharedVolumes\": true,\n",
       "        \"shmSize\": \"2g\"\n",
       "    },\n",
       "    \"environmentVariables\": {\n",
       "        \"EXAMPLE_ENV_VAR\": \"EXAMPLE_VALUE\"\n",
       "    },\n",
       "    \"inferencingStackVersion\": null,\n",
       "    \"name\": \"yolov5_env\",\n",
       "    \"python\": {\n",
       "        \"baseCondaEnvironment\": null,\n",
       "        \"condaDependencies\": {\n",
       "            \"channels\": [\n",
       "                \"anaconda\",\n",
       "                \"conda-forge\"\n",
       "            ],\n",
       "            \"dependencies\": [\n",
       "                \"python=3.8\",\n",
       "                {\n",
       "                    \"pip\": [\n",
       "                        \"azureml-defaults\",\n",
       "                        \"matplotlib>=3.2.2\",\n",
       "                        \"numpy>=1.18.5\",\n",
       "                        \"opencv-python>=4.1.2\",\n",
       "                        \"Pillow\",\n",
       "                        \"PyYAML>=5.3.1\",\n",
       "                        \"scipy>=1.4.1\",\n",
       "                        \"torch>=1.7.0\",\n",
       "                        \"torchvision>=0.8.1\",\n",
       "                        \"tqdm>=4.41.0\",\n",
       "                        \"tensorboard>=2.4.1\",\n",
       "                        \"seaborn>=0.11.0\",\n",
       "                        \"pandas\",\n",
       "                        \"thop\",\n",
       "                        \"pycocotools>=2.0\"\n",
       "                    ]\n",
       "                }\n",
       "            ],\n",
       "            \"name\": \"project_environment\"\n",
       "        },\n",
       "        \"condaDependenciesFile\": null,\n",
       "        \"interpreterPath\": \"python\",\n",
       "        \"userManagedDependencies\": false\n",
       "    },\n",
       "    \"r\": null,\n",
       "    \"spark\": {\n",
       "        \"packages\": [],\n",
       "        \"precachePackages\": true,\n",
       "        \"repositories\": []\n",
       "    },\n",
       "    \"version\": null\n",
       "}>"
      ]
     },
     "execution_count": 3,
     "metadata": {},
     "output_type": "execute_result"
    }
   ],
   "source": [
    "yolov5_env.get_image_details"
   ]
  },
  {
   "cell_type": "code",
   "execution_count": 3,
   "metadata": {},
   "outputs": [
    {
     "name": "stderr",
     "output_type": "stream",
     "text": [
      "Warning: Falling back to use azure cli login credentials.\n",
      "If you run your code in unattended mode, i.e., where you can't give a user input, then we recommend to use ServicePrincipalAuthentication or MsiAuthentication.\n",
      "Please refer to aka.ms/aml-notebook-auth for different authentication mechanisms in azureml-sdk.\n"
     ]
    }
   ],
   "source": [
    "subscription_id = 'cfa7347c-f784-4a8a-b07f-e7f4b066c74c'\n",
    "resource_group  = 'rg-amlclass-thro1'\n",
    "workspace_name  = 'aml-amlclass-thro1'\n",
    "ws = Workspace(subscription_id, resource_group, workspace_name)\n",
    "\n",
    "experiment = Experiment(workspace=ws, name='cell_detection_yolo_training')"
   ]
  },
  {
   "cell_type": "code",
   "execution_count": 4,
   "metadata": {},
   "outputs": [],
   "source": [
    "config = ScriptRunConfig(source_directory='./deploy_yolo_training/',   ## folder in which the script is located\n",
    "                         script='training_on_aml.py',       ## script name\n",
    "                         compute_target='GPU-thro1',\n",
    "                         environment=yolov5_env) "
   ]
  },
  {
   "cell_type": "code",
   "execution_count": 5,
   "metadata": {},
   "outputs": [
    {
     "data": {
      "text/plain": [
       "'C:\\\\Users\\\\thoma\\\\Desktop\\\\Hackweek'"
      ]
     },
     "execution_count": 5,
     "metadata": {},
     "output_type": "execute_result"
    }
   ],
   "source": [
    "%pwd"
   ]
  },
  {
   "cell_type": "code",
   "execution_count": 6,
   "metadata": {},
   "outputs": [
    {
     "name": "stdout",
     "output_type": "stream",
     "text": [
      "https://ml.azure.com/runs/cell_detection_yolo_training_1621571157_3e3246a4?wsid=/subscriptions/cfa7347c-f784-4a8a-b07f-e7f4b066c74c/resourcegroups/rg-amlclass-thro1/workspaces/aml-amlclass-thro1&tid=f6b6dd5b-f02f-441a-99a0-162ac5060bd2\n"
     ]
    }
   ],
   "source": [
    "run = experiment.submit(config)\n",
    "aml_url = run.get_portal_url()\n",
    "print(aml_url)"
   ]
  },
  {
   "cell_type": "code",
   "execution_count": null,
   "metadata": {},
   "outputs": [],
   "source": []
  }
 ],
 "metadata": {
  "kernelspec": {
   "display_name": "Python 3",
   "language": "python",
   "name": "python3"
  },
  "language_info": {
   "codemirror_mode": {
    "name": "ipython",
    "version": 3
   },
   "file_extension": ".py",
   "mimetype": "text/x-python",
   "name": "python",
   "nbconvert_exporter": "python",
   "pygments_lexer": "ipython3",
   "version": "3.8.8"
  }
 },
 "nbformat": 4,
 "nbformat_minor": 4
}
